{
 "cells": [
  {
   "cell_type": "code",
   "execution_count": 1,
   "metadata": {},
   "outputs": [],
   "source": [
    "import torch\n",
    "import random\n",
    "import numpy as np\n",
    "import torch.nn as nn\n",
    "import torch.nn.functional as F\n",
    "import torch\n",
    "import torch.nn as nn\n",
    "import torch.optim as optim\n",
    "import numpy as np"
   ]
  },
  {
   "cell_type": "code",
   "execution_count": 2,
   "metadata": {},
   "outputs": [
    {
     "name": "stdout",
     "output_type": "stream",
     "text": [
      "10 %\n",
      "20 %\n",
      "30 %\n",
      "40 %\n",
      "50 %\n",
      "60 %\n",
      "70 %\n",
      "80 %\n",
      "90 %\n"
     ]
    }
   ],
   "source": [
    "\n",
    "\n",
    "\n",
    "x_train_simple = []\n",
    "y_train_simple = []\n",
    "\n",
    "a = []\n",
    "\n",
    "\n",
    "def read_matrix(l):\n",
    "    matrix22 = []\n",
    "    input_matrix = []\n",
    "\n",
    "    with open(f'D:\\\\my_pyhton_projects\\\\nn_sarov\\\\best_version\\\\X_train\\\\file_matrix{l}.txt') as f:\n",
    "        for i in range(20):\n",
    "            for j in range(5):\n",
    "                input_matrix += map(float, f.readline().replace('[', '').replace(']','').replace('\\n', '').split())\n",
    "            matrix22.append(input_matrix)\n",
    "            input_matrix = []\n",
    "    return matrix22\n",
    "\n",
    "\n",
    "for i in range(1, 65537):\n",
    "    a.append(read_matrix(i))\n",
    "    if i % 6555 == 0:\n",
    "        print(i//655, '%')\n",
    "\n",
    "b = torch.tensor(a)\n",
    "\n",
    "x_train = b\n"
   ]
  },
  {
   "cell_type": "code",
   "execution_count": 5,
   "metadata": {},
   "outputs": [
    {
     "data": {
      "text/plain": [
       "torch.Size([65536, 20, 20])"
      ]
     },
     "execution_count": 5,
     "metadata": {},
     "output_type": "execute_result"
    }
   ],
   "source": [
    "x_train.size()"
   ]
  },
  {
   "cell_type": "code",
   "execution_count": 6,
   "metadata": {},
   "outputs": [
    {
     "name": "stdout",
     "output_type": "stream",
     "text": [
      "10 %\n",
      "20 %\n",
      "30 %\n",
      "40 %\n",
      "50 %\n",
      "60 %\n",
      "70 %\n",
      "80 %\n",
      "90 %\n"
     ]
    }
   ],
   "source": [
    "def read_phases(l):\n",
    "\n",
    "    phases2 = []\n",
    "    with open(f'D:\\\\my_pyhton_projects\\\\nn_sarov\\\\best_version\\\\Y_train\\\\delta{l}.txt') as f:\n",
    "        phases = f.readline().replace('[', '').replace(']','').replace('\\n', '').replace(',', '').split()\n",
    "        \n",
    "    for i in range(4):\n",
    "        phases2.append(float(phases[i]))\n",
    "        \n",
    "    return phases2\n",
    "\n",
    "a2 = []\n",
    "\n",
    "for i in range(1, 65537):\n",
    "    a2.append(read_phases(i))\n",
    "    if i % 6555 == 0:\n",
    "        print(i//655, '%')\n",
    "\n",
    "\n",
    "b2 = torch.tensor(a2)\n",
    "\n",
    "\n",
    "y_train = b2\n",
    "\n"
   ]
  },
  {
   "cell_type": "code",
   "execution_count": 7,
   "metadata": {},
   "outputs": [
    {
     "data": {
      "text/plain": [
       "torch.Size([65536, 4])"
      ]
     },
     "execution_count": 7,
     "metadata": {},
     "output_type": "execute_result"
    }
   ],
   "source": [
    "y_train.size()"
   ]
  },
  {
   "cell_type": "code",
   "execution_count": 6,
   "metadata": {},
   "outputs": [],
   "source": [
    "#ансквизим выборки"
   ]
  },
  {
   "cell_type": "code",
   "execution_count": 7,
   "metadata": {},
   "outputs": [],
   "source": [
    "# x_train = x_train.unsqueeze(1).float()"
   ]
  },
  {
   "cell_type": "code",
   "execution_count": 8,
   "metadata": {},
   "outputs": [
    {
     "data": {
      "text/plain": [
       "65536"
      ]
     },
     "execution_count": 8,
     "metadata": {},
     "output_type": "execute_result"
    }
   ],
   "source": [
    "len(x_train)\n"
   ]
  },
  {
   "cell_type": "code",
   "execution_count": 215,
   "metadata": {},
   "outputs": [],
   "source": [
    "class LeNet5(nn.Module):\n",
    "    def __init__(self):\n",
    "        super().__init__()\n",
    "        self.conv1 = nn.Conv2d(in_channels=1, out_channels=3, kernel_size=3, padding=1)\n",
    "        self.conv2 = nn.Conv2d(in_channels=3, out_channels=1, kernel_size=3, padding=1)\n",
    "        #self.dropout = nn.Dropout(p=0.1)  # dropout-регуляризация\n",
    "        self.fc1 = nn.Linear(in_features=400, out_features=240)\n",
    "        self.fc2 = nn.Linear(in_features=240, out_features=100)\n",
    "        self.fc3 = nn.Linear(in_features=100, out_features=20)\n",
    "        self.fc4 = nn.Linear(in_features=20, out_features=4)\n",
    "        self.Tanh = nn.Tanh()\n",
    "        self.Sigmoid = nn.Sigmoid()\n",
    "        self.ReLU = nn.ReLU()\n",
    "        \n",
    "    def forward(self, x):\n",
    "        x = self.conv1(x)\n",
    "        x = self.Tanh(x)\n",
    "        x = self.conv2(x)\n",
    "        x = self.Tanh(x)\n",
    "        x = F.avg_pool2d(x, kernel_size=3, stride=1, padding=1)\n",
    "        #x = self.dropout(x)  # dropout-регуляризация\n",
    "        x = x.view(x.size(0), -1)\n",
    "        x = self.fc1(x)\n",
    "        x = self.Sigmoid(x)\n",
    "        x = self.fc2(x)\n",
    "        x = self.Sigmoid(x)\n",
    "        x = self.fc3(x)\n",
    "        x = self.Sigmoid(x)\n",
    "        x = self.fc4(x)\n",
    "        return x\n",
    "    \n",
    "    \n",
    "lenet5 = LeNet5()"
   ]
  },
  {
   "cell_type": "code",
   "execution_count": 216,
   "metadata": {},
   "outputs": [],
   "source": [
    "X_train = x_train.unsqueeze(1).float()"
   ]
  },
  {
   "cell_type": "code",
   "execution_count": 217,
   "metadata": {},
   "outputs": [
    {
     "data": {
      "text/plain": [
       "torch.Size([65536, 1, 20, 20])"
      ]
     },
     "execution_count": 217,
     "metadata": {},
     "output_type": "execute_result"
    }
   ],
   "source": [
    "X_train.shape"
   ]
  },
  {
   "cell_type": "code",
   "execution_count": 218,
   "metadata": {},
   "outputs": [],
   "source": [
    "#loss = torch.nn.MSELoss()\n",
    "loss = torch.nn.L1Loss()\n",
    "#loss = torch.nn.HuberLoss(reduction='mean', delta=1.0)"
   ]
  },
  {
   "cell_type": "code",
   "execution_count": 219,
   "metadata": {},
   "outputs": [
    {
     "name": "stdout",
     "output_type": "stream",
     "text": [
      "Epoch [1/50], Loss: 0.9629\n",
      "Epoch [2/50], Loss: 0.8679\n",
      "Epoch [3/50], Loss: 0.8001\n",
      "Epoch [4/50], Loss: 0.7188\n",
      "Epoch [5/50], Loss: 0.6892\n",
      "Epoch [6/50], Loss: 0.6915\n",
      "Epoch [7/50], Loss: 0.6863\n",
      "Epoch [8/50], Loss: 0.6621\n",
      "Epoch [9/50], Loss: 0.6669\n",
      "Epoch [10/50], Loss: 0.6225\n",
      "Epoch [11/50], Loss: 0.6721\n",
      "Epoch [12/50], Loss: 0.6563\n",
      "Epoch [13/50], Loss: 0.6744\n",
      "Epoch [14/50], Loss: 0.6507\n",
      "Epoch [15/50], Loss: 0.6598\n",
      "Epoch [16/50], Loss: 0.6378\n",
      "Epoch [17/50], Loss: 0.6605\n",
      "Epoch [18/50], Loss: 0.6733\n",
      "Epoch [19/50], Loss: 0.6623\n",
      "Epoch [20/50], Loss: 0.6818\n",
      "Epoch [21/50], Loss: 0.6608\n",
      "Epoch [22/50], Loss: 0.6810\n",
      "Epoch [23/50], Loss: 0.6395\n",
      "Epoch [24/50], Loss: 0.6616\n",
      "Epoch [25/50], Loss: 0.6456\n",
      "Epoch [26/50], Loss: 0.6507\n",
      "Epoch [27/50], Loss: 0.6262\n",
      "Epoch [28/50], Loss: 0.6617\n",
      "Epoch [29/50], Loss: 0.6607\n",
      "Epoch [30/50], Loss: 0.6512\n",
      "Epoch [31/50], Loss: 0.6461\n",
      "Epoch [32/50], Loss: 0.6474\n",
      "Epoch [33/50], Loss: 0.6370\n",
      "Epoch [34/50], Loss: 0.6376\n",
      "Epoch [35/50], Loss: 0.6477\n",
      "Epoch [36/50], Loss: 0.6685\n",
      "Epoch [37/50], Loss: 0.6744\n",
      "Epoch [38/50], Loss: 0.6653\n",
      "Epoch [39/50], Loss: 0.6604\n",
      "Epoch [40/50], Loss: 0.6311\n",
      "Epoch [41/50], Loss: 0.6743\n",
      "Epoch [42/50], Loss: 0.6408\n",
      "Epoch [43/50], Loss: 0.6505\n",
      "Epoch [44/50], Loss: 0.6761\n",
      "Epoch [45/50], Loss: 0.6369\n",
      "Epoch [46/50], Loss: 0.6348\n",
      "Epoch [47/50], Loss: 0.6571\n",
      "Epoch [48/50], Loss: 0.6266\n",
      "Epoch [49/50], Loss: 0.6443\n",
      "Epoch [50/50], Loss: 0.6524\n"
     ]
    }
   ],
   "source": [
    "optimizer = torch.optim.Adam(lenet5.parameters(), lr=1.0e-2)\n",
    "#optimizer = optim.SGD(lenet5.parameters(), lr=0.001, momentum=0.9)\n",
    "batch_size = 5000\n",
    "losses = []\n",
    "num_epoch = 50\n",
    "\n",
    "for epoch in range(num_epoch):\n",
    "    order = np.random.permutation(len(X_train))\n",
    "    for start_index in range(0, len(X_train), batch_size):\n",
    "        optimizer.zero_grad()\n",
    "        \n",
    "        batch_indexes = order[start_index:start_index+batch_size]\n",
    "        \n",
    "        X_batch = X_train[batch_indexes]\n",
    "        y_batch = y_train[batch_indexes]\n",
    "        preds = lenet5.forward(X_batch)\n",
    "        \n",
    "        loss_value = loss(preds, y_batch) \n",
    "        #loss_value = loss_value.mean()\n",
    "        loss_value.backward()\n",
    "        \n",
    "        optimizer.step()\n",
    "    print('Epoch [{}/{}], Loss: {:.4f}'.format(epoch+1, num_epoch, loss_value))\n",
    "    losses.append(loss_value)\n",
    "    \n",
    "    \n",
    "    \n",
    "        \n",
    "    "
   ]
  },
  {
   "cell_type": "code",
   "execution_count": 186,
   "metadata": {},
   "outputs": [],
   "source": [
    "def predict(lenet5, x):\n",
    "    y_pred = lenet5.forward(x)\n",
    "\n",
    "    return y_pred"
   ]
  },
  {
   "cell_type": "code",
   "execution_count": 187,
   "metadata": {},
   "outputs": [],
   "source": [
    "import matplotlib.pyplot as plt"
   ]
  },
  {
   "cell_type": "code",
   "execution_count": 188,
   "metadata": {},
   "outputs": [],
   "source": [
    "losses = [losses[i].detach().numpy() for i in range(num_epoch)]"
   ]
  },
  {
   "cell_type": "code",
   "execution_count": 189,
   "metadata": {},
   "outputs": [
    {
     "data": {
      "image/png": "[encoded data removed]",
      "text/plain": [
       "<Figure size 1500x1000 with 1 Axes>"
      ]
     },
     "metadata": {},
     "output_type": "display_data"
    }
   ],
   "source": [
    "epochs = [i for i in range(num_epoch)]\n",
    "plt.figure(figsize=(15, 10))\n",
    "plt.plot(epochs, losses)\n",
    "plt.show()"
   ]
  },
  {
   "cell_type": "code",
   "execution_count": 154,
   "metadata": {},
   "outputs": [],
   "source": [
    "# предскажем fi = [[0, 0, 0, 0], [1, 2, 3, 4], [1, 2, 1, 4], [1, 2, 2, 5], [0, 2, 0, 4], [1, 1, 1, 1]]"
   ]
  },
  {
   "cell_type": "code",
   "execution_count": 155,
   "metadata": {},
   "outputs": [
    {
     "data": {
      "text/plain": [
       "tensor([[1.7894e+12, 6.7466e+08, 2.5723e+12, 1.2132e+13, 9.6540e+10, 2.7605e+13,\n",
       "         1.2631e+13, 1.4015e+09, 7.3011e+10, 2.0199e+12],\n",
       "        [1.4557e+11, 5.5045e+07, 3.3704e+11, 2.0937e+12, 1.8043e+10, 5.1593e+12,\n",
       "         2.1799e+12, 1.8364e+08, 5.9569e+09, 1.6432e+11],\n",
       "        [3.2495e+11, 3.4240e+08, 3.3678e+12, 2.1439e+13, 1.7986e+11, 5.1431e+13,\n",
       "         2.2321e+13, 1.8349e+09, 3.7054e+10, 3.6681e+11],\n",
       "        [4.9336e+11, 2.3683e+09, 2.1082e+13, 1.2108e+14, 9.6325e+11, 2.7544e+14,\n",
       "         1.2606e+14, 1.1487e+10, 2.5630e+11, 5.5691e+11],\n",
       "        [6.7931e+12, 2.3413e+10, 1.8250e+14, 9.8026e+14, 7.5582e+12, 2.1612e+15,\n",
       "         1.0206e+15, 9.9435e+10, 2.5338e+12, 7.6680e+12],\n",
       "        [1.8713e+12, 6.4496e+09, 5.0272e+13, 2.7003e+14, 2.0820e+12, 5.9534e+14,\n",
       "         2.8115e+14, 2.7391e+10, 6.9797e+11, 2.1123e+12],\n",
       "        [4.3974e+11, 2.1109e+09, 1.8791e+13, 1.0792e+14, 8.5856e+11, 2.4550e+14,\n",
       "         1.1236e+14, 1.0238e+10, 2.2844e+11, 4.9638e+11],\n",
       "        [1.3083e+12, 1.3785e+09, 1.3559e+13, 8.6313e+13, 7.2414e+11, 2.0706e+14,\n",
       "         8.9867e+13, 7.3875e+09, 1.4918e+11, 1.4768e+12],\n",
       "        [4.4240e+10, 1.6729e+07, 1.0243e+11, 6.3631e+11, 5.4836e+09, 1.5680e+12,\n",
       "         6.6250e+11, 5.5810e+07, 1.8104e+09, 4.9938e+10],\n",
       "        [1.2658e+12, 4.7726e+08, 1.8197e+12, 8.5820e+12, 6.8292e+10, 1.9528e+13,\n",
       "         8.9354e+12, 9.9145e+08, 5.1648e+10, 1.4289e+12]])"
      ]
     },
     "execution_count": 155,
     "metadata": {},
     "output_type": "execute_result"
    }
   ],
   "source": [
    "def read_matrix_hui(l):\n",
    "    matrix22 = []\n",
    "    input_matrix = []\n",
    "\n",
    "    with open(f'D:\\\\my_pyhton_projects\\\\nn_sarov\\\\X_validation\\\\file_matrix{l}.txt') as f:\n",
    "        for i in range(10):\n",
    "            for j in range(3):\n",
    "                input_matrix += map(float, f.readline().replace('[', '').replace(']','').replace('\\n', '').split())\n",
    "            matrix22.append(input_matrix)\n",
    "            input_matrix = []\n",
    "    return matrix22\n",
    "x_valid = torch.Tensor(read_matrix_hui(1)) #параметр считывания настроим вручную\n",
    "x_valid"
   ]
  },
  {
   "cell_type": "code",
   "execution_count": 156,
   "metadata": {},
   "outputs": [
    {
     "data": {
      "text/plain": [
       "torch.Size([10, 10])"
      ]
     },
     "execution_count": 156,
     "metadata": {},
     "output_type": "execute_result"
    }
   ],
   "source": [
    "x_valid.shape"
   ]
  },
  {
   "cell_type": "code",
   "execution_count": 158,
   "metadata": {},
   "outputs": [],
   "source": [
    "x_valid = x_valid.unsqueeze(0).float() #применить 2 раза"
   ]
  },
  {
   "cell_type": "code",
   "execution_count": 159,
   "metadata": {},
   "outputs": [
    {
     "data": {
      "text/plain": [
       "torch.Size([1, 1, 10, 10])"
      ]
     },
     "execution_count": 159,
     "metadata": {},
     "output_type": "execute_result"
    }
   ],
   "source": [
    "x_valid.shape"
   ]
  },
  {
   "cell_type": "code",
   "execution_count": 160,
   "metadata": {},
   "outputs": [
    {
     "data": {
      "text/plain": [
       "tensor([[ 1.5154,  0.5634, -0.4463, -1.4315]], grad_fn=<AddmmBackward0>)"
      ]
     },
     "execution_count": 160,
     "metadata": {},
     "output_type": "execute_result"
    }
   ],
   "source": [
    "pred_hui = predict(lenet5, x_valid)\n",
    "pred_hui"
   ]
  },
  {
   "cell_type": "code",
   "execution_count": 161,
   "metadata": {},
   "outputs": [],
   "source": [
    "#Вывод итогового результата"
   ]
  },
  {
   "cell_type": "code",
   "execution_count": 29,
   "metadata": {},
   "outputs": [],
   "source": [
    "import numpy as np\n",
    "import matplotlib.pylab as plt\n",
    "from math import pi, exp\n",
    "import random\n",
    "import torch\n",
    "\n",
    "lmbda = 0.5e-6 # длина волны\n",
    "k = 2*pi/lmbda # Волновое число\n",
    "z = 4 # Расстояние от XY до UV (Тогда u, v береv в диапазоне [-0.01, 0.01]), чтобы диапазон углов был в [-5, 5]\n",
    "m = k/z\n",
    "E0 = 1\n",
    "\n",
    "# Разобъём дальнюю зону на точки, в которых считаем интенсивность\n",
    "x = np.linspace(-0.0009, 0.0009, 20)\n",
    "y = np.linspace(-0.0009, 0.0009, 20)"
   ]
  },
  {
   "cell_type": "code",
   "execution_count": 163,
   "metadata": {},
   "outputs": [
    {
     "name": "stdout",
     "output_type": "stream",
     "text": [
      "fi1 =  [1, 2, 3, 4] начальное задание фаз которые мы как будто не знаем в реальном эксперименте\n",
      "fi2 =  [ 1.5153517   0.5634371  -0.44632152 -1.4315232 ] генерация сдвигов фаз нейросетью\n",
      "fi =  [2.51535165309906, 2.5634371042251587, 2.55367848277092, 2.5684767961502075] итоговые фазы для построения\n"
     ]
    }
   ],
   "source": [
    "fi1 = [1, 2, 3, 4]\n",
    "fi2 = pred_hui.detach()[0].numpy() \n",
    "fi = [i + k for i, k in zip(fi2, fi1)]\n",
    "\n",
    "print('fi1 = ', fi1, 'начальное задание фаз которые мы как будто не знаем в реальном эксперименте')\n",
    "print('fi2 = ', fi2, 'генерация сдвигов фаз нейросетью')\n",
    "print('fi = ', fi, 'итоговые фазы для построения')\n",
    "\n",
    "\n"
   ]
  },
  {
   "cell_type": "code",
   "execution_count": 164,
   "metadata": {},
   "outputs": [],
   "source": [
    "# данный алгос строит распределение по fi\n",
    "\n",
    "# Длина стороны\n",
    "a = 0.003\n",
    "y20 = 1.05 * a\n",
    "x2 = -1.05 * a\n",
    "y10 = 0.05 * a\n",
    "x1 = -0.05 * a\n",
    "y2 = y20\n",
    "y1 = y10\n",
    "zss = 0\n",
    "# xss, yss = 0.001, 0.001 \n",
    "xss, yss = np.meshgrid(x, y, sparse=True)\n",
    "n = 0\n",
    "for i in range(2):\n",
    "    for j in range(2):\n",
    "        Exy = E0*(np.cos(fi[n]) + 1j*np.sin(fi[n]))\n",
    "        zss += (Exy*(np.cos(k*(xss**2 +yss**2)/(2*z)) + np.sin(k*(xss*2 + yss**2)/(2*z)) * 1j)/(1j*lmbda*z) *\n",
    "         (-1/(m*(xss*yss))) * (np.cos((x2*xss + y2*yss)*m) - 1j*np.sin((x2*xss + y2*yss)*m) - \n",
    "                             np.cos((x1*xss + y2*yss)*m) + 1j*np.sin((x1*xss + y2*yss)*m) -\n",
    "                             np.cos((x2*xss + y1*yss)*m) + 1j*np.sin((x2*xss + y1*yss)*m) + \n",
    "                             np.cos((x1*xss + y1*yss)*m) - 1j*np.sin((x1*xss + y1*yss)*m)))\n",
    "        n += 1 # Для каждой субаппертуры берем значение из списка fi\n",
    "        y2 -= 1.1*a\n",
    "        y1 -= 1.1*a\n",
    "    x2 += 1.1*a \n",
    "    x1 += 1.1*a  \n",
    "    y2 = y20\n",
    "    y1 = y10\n",
    "E = abs(zss)**2   "
   ]
  },
  {
   "cell_type": "code",
   "execution_count": 165,
   "metadata": {},
   "outputs": [
    {
     "data": {
      "image/png": "[encoded data removed]",
      "text/plain": [
       "<Figure size 1000x1000 with 1 Axes>"
      ]
     },
     "metadata": {},
     "output_type": "display_data"
    }
   ],
   "source": [
    "# вывод графика\n",
    "fig, ax = plt.subplots(figsize=(10,10))\n",
    "ax.pcolormesh(xss, yss, E, cmap=plt.get_cmap('viridis'))\n",
    "plt.show()"
   ]
  },
  {
   "cell_type": "code",
   "execution_count": 166,
   "metadata": {},
   "outputs": [],
   "source": [
    "# так же выведем изначальное распределение\n"
   ]
  },
  {
   "cell_type": "code",
   "execution_count": 167,
   "metadata": {},
   "outputs": [],
   "source": [
    "fi = fi1"
   ]
  },
  {
   "cell_type": "code",
   "execution_count": 168,
   "metadata": {},
   "outputs": [],
   "source": [
    "# Длина стороны\n",
    "a = 0.003\n",
    "y20 = 1.05 * a\n",
    "x2 = -1.05 * a\n",
    "y10 = 0.05 * a\n",
    "x1 = -0.05 * a\n",
    "y2 = y20\n",
    "y1 = y10\n",
    "zss = 0\n",
    "# xss, yss = 0.001, 0.001 \n",
    "xss, yss = np.meshgrid(x, y, sparse=True)\n",
    "n = 0\n",
    "for i in range(2):\n",
    "    for j in range(2):\n",
    "        Exy = E0*(np.cos(fi[n]) + 1j*np.sin(fi[n]))\n",
    "        zss += (Exy*(np.cos(k*(xss**2 +yss**2)/(2*z)) + np.sin(k*(xss*2 + yss**2)/(2*z)) * 1j)/(1j*lmbda*z) *\n",
    "         (-1/(m*(xss*yss))) * (np.cos((x2*xss + y2*yss)*m) - 1j*np.sin((x2*xss + y2*yss)*m) - \n",
    "                             np.cos((x1*xss + y2*yss)*m) + 1j*np.sin((x1*xss + y2*yss)*m) -\n",
    "                             np.cos((x2*xss + y1*yss)*m) + 1j*np.sin((x2*xss + y1*yss)*m) + \n",
    "                             np.cos((x1*xss + y1*yss)*m) - 1j*np.sin((x1*xss + y1*yss)*m)))\n",
    "        n += 1 # Для каждой субаппертуры берем значение из списка fi\n",
    "        y2 -= 1.1*a\n",
    "        y1 -= 1.1*a\n",
    "    x2 += 1.1*a \n",
    "    x1 += 1.1*a  \n",
    "    y2 = y20\n",
    "    y1 = y10\n",
    "E = abs(zss)**2  "
   ]
  },
  {
   "cell_type": "code",
   "execution_count": 169,
   "metadata": {},
   "outputs": [
    {
     "data": {
      "image/png": "[encoded data removed]",
      "text/plain": [
       "<Figure size 1000x1000 with 1 Axes>"
      ]
     },
     "metadata": {},
     "output_type": "display_data"
    }
   ],
   "source": [
    "# вывод графика\n",
    "fig, ax = plt.subplots(figsize=(10,10))\n",
    "ax.pcolormesh(xss, yss, E, cmap=plt.get_cmap('viridis'))\n",
    "plt.show()"
   ]
  },
  {
   "cell_type": "code",
   "execution_count": 30,
   "metadata": {},
   "outputs": [],
   "source": [
    "def I_0(fi, zss = 0, a=0.003):\n",
    "    for i in range(4):\n",
    "        zss += E0/(1j*lmbda*z) * (a**2) * (np.cos(fi[i]) + 1j*np.sin(fi[i]))\n",
    "    E = abs(zss)**2 \n",
    "    return E"
   ]
  },
  {
   "cell_type": "code",
   "execution_count": 148,
   "metadata": {},
   "outputs": [
    {
     "name": "stdout",
     "output_type": "stream",
     "text": [
      "10 %\n",
      "20 %\n",
      "30 %\n",
      "40 %\n",
      "50 %\n",
      "60 %\n",
      "70 %\n",
      "80 %\n",
      "90 %\n",
      "100 %\n"
     ]
    }
   ],
   "source": [
    "def read_matrix_10000(s):\n",
    "    matrix22 = []\n",
    "    input_matrix = []\n",
    "\n",
    "    with open(f'D:\\\\my_pyhton_projects\\\\nn_sarov\\\\best_version\\\\X_validation\\\\matrix{s}.txt') as f:\n",
    "        for i in range(20):\n",
    "            for j in range(5):\n",
    "                input_matrix += map(float, f.readline().replace('[', '').replace(']','').replace('\\n', '').split())\n",
    "            matrix22.append(input_matrix)\n",
    "            input_matrix = []\n",
    "    return matrix22\n",
    "\n",
    "a4 = []\n",
    "for i in range(1, 10001):\n",
    "    a4.append(read_matrix_10000(i))\n",
    "    if i % 1000 == 0:\n",
    "        print(i//100, '%')\n",
    "\n",
    "b4 = torch.tensor(a4)\n",
    "\n",
    "\n",
    "X_V = b4"
   ]
  },
  {
   "cell_type": "code",
   "execution_count": 33,
   "metadata": {},
   "outputs": [
    {
     "data": {
      "text/plain": [
       "torch.Size([10000, 20, 20])"
      ]
     },
     "execution_count": 33,
     "metadata": {},
     "output_type": "execute_result"
    }
   ],
   "source": [
    "X_V.shape"
   ]
  },
  {
   "cell_type": "code",
   "execution_count": 34,
   "metadata": {},
   "outputs": [
    {
     "name": "stdout",
     "output_type": "stream",
     "text": [
      "10 %\n",
      "20 %\n",
      "30 %\n",
      "40 %\n",
      "50 %\n",
      "60 %\n",
      "70 %\n",
      "80 %\n",
      "90 %\n",
      "100 %\n"
     ]
    }
   ],
   "source": [
    "def read_phases_10000(s):\n",
    "\n",
    "    phases2 = []\n",
    "    with open(f'D:\\\\my_pyhton_projects\\\\nn_sarov\\\\best_version\\\\Y_validation\\\\phases{s}.txt') as f:\n",
    "        phases = f.readline().replace('[', '').replace(']','').replace('\\n', '').replace(',', '').split()\n",
    "        \n",
    "    for i in range(4):\n",
    "        phases2.append(float(phases[i]))\n",
    "        \n",
    "    return phases2\n",
    "\n",
    "a5 = []\n",
    "\n",
    "for i in range(1, 10001):\n",
    "    a5.append(read_phases_10000(i))\n",
    "    if i % 1000 == 0:\n",
    "        print(i//100, '%')\n",
    "\n",
    "\n",
    "b5 = torch.tensor(a5)\n",
    "\n",
    "Y_V = b5\n",
    "\n"
   ]
  },
  {
   "cell_type": "code",
   "execution_count": 35,
   "metadata": {},
   "outputs": [
    {
     "data": {
      "text/plain": [
       "torch.Size([10000, 4])"
      ]
     },
     "execution_count": 35,
     "metadata": {},
     "output_type": "execute_result"
    }
   ],
   "source": [
    "Y_V.size()"
   ]
  },
  {
   "cell_type": "code",
   "execution_count": 190,
   "metadata": {},
   "outputs": [],
   "source": [
    "deltas  = []\n",
    "\n"
   ]
  },
  {
   "cell_type": "code",
   "execution_count": 152,
   "metadata": {},
   "outputs": [],
   "source": [
    "X_V = X_V.unsqueeze(1).float() #применить 2 раза\n",
    "\n"
   ]
  },
  {
   "cell_type": "code",
   "execution_count": 191,
   "metadata": {},
   "outputs": [
    {
     "data": {
      "text/plain": [
       "torch.Size([1, 1, 20, 20])"
      ]
     },
     "execution_count": 191,
     "metadata": {},
     "output_type": "execute_result"
    }
   ],
   "source": [
    "X_V[1].shape"
   ]
  },
  {
   "cell_type": "code",
   "execution_count": 192,
   "metadata": {},
   "outputs": [],
   "source": [
    "for i in range(10000):\n",
    "    a = predict(lenet5, X_V[i]).detach()\n",
    "    b = a.numpy()\n",
    "    deltas.append(b)\n",
    "    \n",
    "    \n",
    "                  \n",
    "\n",
    "    "
   ]
  },
  {
   "cell_type": "code",
   "execution_count": 193,
   "metadata": {},
   "outputs": [
    {
     "data": {
      "text/plain": [
       "10000"
      ]
     },
     "execution_count": 193,
     "metadata": {},
     "output_type": "execute_result"
    }
   ],
   "source": [
    "len(deltas)"
   ]
  },
  {
   "cell_type": "code",
   "execution_count": 194,
   "metadata": {},
   "outputs": [],
   "source": [
    "Initial_phases = []"
   ]
  },
  {
   "cell_type": "code",
   "execution_count": 195,
   "metadata": {},
   "outputs": [],
   "source": [
    "for i in range(10000):\n",
    "    a = Y_V[i].detach()\n",
    "    b = a.numpy()\n",
    "    Initial_phases.append(b)"
   ]
  },
  {
   "cell_type": "code",
   "execution_count": 196,
   "metadata": {},
   "outputs": [
    {
     "data": {
      "text/plain": [
       "10000"
      ]
     },
     "execution_count": 196,
     "metadata": {},
     "output_type": "execute_result"
    }
   ],
   "source": [
    "len(Initial_phases)"
   ]
  },
  {
   "cell_type": "code",
   "execution_count": 197,
   "metadata": {},
   "outputs": [],
   "source": [
    "def I_0(fi, zss = 0, a=0.003):\n",
    "    for i in range(4):\n",
    "        zss += E0/(1j*lmbda*z) * (a**2) * (np.cos(fi[i]) + 1j*np.sin(fi[i]))\n",
    "    E = abs(zss)**2 \n",
    "    return E"
   ]
  },
  {
   "cell_type": "code",
   "execution_count": 198,
   "metadata": {},
   "outputs": [],
   "source": [
    "I_max = I_0([0, 0, 0, 0])"
   ]
  },
  {
   "cell_type": "code",
   "execution_count": 199,
   "metadata": {},
   "outputs": [
    {
     "data": {
      "text/plain": [
       "324.0"
      ]
     },
     "execution_count": 199,
     "metadata": {},
     "output_type": "execute_result"
    }
   ],
   "source": [
    "I_max"
   ]
  },
  {
   "cell_type": "code",
   "execution_count": 200,
   "metadata": {},
   "outputs": [],
   "source": [
    "Initial_Strel = []\n",
    "\n"
   ]
  },
  {
   "cell_type": "code",
   "execution_count": 201,
   "metadata": {},
   "outputs": [],
   "source": [
    "for i in Initial_phases:\n",
    "    Initial_Strel.append(round(I_0(i)/I_max, 2))\n",
    "    \n"
   ]
  },
  {
   "cell_type": "code",
   "execution_count": 202,
   "metadata": {},
   "outputs": [
    {
     "data": {
      "text/plain": [
       "0.78"
      ]
     },
     "execution_count": 202,
     "metadata": {},
     "output_type": "execute_result"
    }
   ],
   "source": [
    "Initial_Strel[0]"
   ]
  },
  {
   "cell_type": "code",
   "execution_count": 203,
   "metadata": {},
   "outputs": [
    {
     "data": {
      "text/plain": [
       "549"
      ]
     },
     "execution_count": 203,
     "metadata": {},
     "output_type": "execute_result"
    }
   ],
   "source": [
    "cnt = 0\n",
    "for i in Initial_Strel:\n",
    "    if i >= 0.7:\n",
    "        cnt +=1\n",
    "        \n",
    "cnt"
   ]
  },
  {
   "cell_type": "code",
   "execution_count": 204,
   "metadata": {},
   "outputs": [],
   "source": [
    "Final_Strel = []\n",
    "Final_phases = []"
   ]
  },
  {
   "cell_type": "code",
   "execution_count": 205,
   "metadata": {},
   "outputs": [],
   "source": [
    "Final_phases = [i + k for i,k in zip(Initial_phases, deltas)]"
   ]
  },
  {
   "cell_type": "code",
   "execution_count": 206,
   "metadata": {},
   "outputs": [
    {
     "data": {
      "text/plain": [
       "array([0.82444406, 0.50384617, 0.28482848, 0.73317003], dtype=float32)"
      ]
     },
     "execution_count": 206,
     "metadata": {},
     "output_type": "execute_result"
    }
   ],
   "source": [
    "Final_phases[1][0]"
   ]
  },
  {
   "cell_type": "code",
   "execution_count": 207,
   "metadata": {},
   "outputs": [],
   "source": [
    "for i in Final_phases:\n",
    "    i = i[0]\n",
    "    Final_Strel.append(round(I_0(i)/I_max, 2))\n",
    "    \n",
    "s = 0\n",
    "for i in Final_Strel:\n",
    "    if i >= 0.7:\n",
    "        s +=1\n",
    "        \n"
   ]
  },
  {
   "cell_type": "code",
   "execution_count": 208,
   "metadata": {},
   "outputs": [
    {
     "data": {
      "text/plain": [
       "10000"
      ]
     },
     "execution_count": 208,
     "metadata": {},
     "output_type": "execute_result"
    }
   ],
   "source": [
    "len(Final_Strel)"
   ]
  },
  {
   "cell_type": "code",
   "execution_count": 209,
   "metadata": {},
   "outputs": [
    {
     "data": {
      "text/plain": [
       "5092"
      ]
     },
     "execution_count": 209,
     "metadata": {},
     "output_type": "execute_result"
    }
   ],
   "source": [
    "s"
   ]
  },
  {
   "cell_type": "code",
   "execution_count": 210,
   "metadata": {},
   "outputs": [
    {
     "data": {
      "text/plain": [
       "<BarContainer object of 10 artists>"
      ]
     },
     "execution_count": 210,
     "metadata": {},
     "output_type": "execute_result"
    },
    {
     "data": {
      "image/png": "[encoded data removed]",
      "text/plain": [
       "<Figure size 640x480 with 1 Axes>"
      ]
     },
     "metadata": {},
     "output_type": "display_data"
    }
   ],
   "source": [
    "S = []\n",
    "I = np.arange(10)/10\n",
    "\n",
    "for i in range(10):\n",
    "    i = i / 10\n",
    "    \n",
    "    s = 0\n",
    "    for k in Final_Strel:\n",
    "        if  ( i < k < 0.1+i)  :\n",
    "            s +=1\n",
    "            \n",
    "    S.append(s)\n",
    "    #print(i, i+0.1, s)\n",
    "plt.bar(I, S, width = 0.05)\n",
    "            \n",
    "    \n",
    "    "
   ]
  },
  {
   "cell_type": "code",
   "execution_count": 211,
   "metadata": {},
   "outputs": [
    {
     "data": {
      "text/plain": [
       "[526, 675, 744, 595, 601, 609, 752, 903, 1257, 2409]"
      ]
     },
     "execution_count": 211,
     "metadata": {},
     "output_type": "execute_result"
    }
   ],
   "source": [
    "S"
   ]
  },
  {
   "cell_type": "code",
   "execution_count": 212,
   "metadata": {},
   "outputs": [
    {
     "data": {
      "text/plain": [
       "<BarContainer object of 10 artists>"
      ]
     },
     "execution_count": 212,
     "metadata": {},
     "output_type": "execute_result"
    },
    {
     "data": {
      "image/png": "[encoded data removed]",
      "text/plain": [
       "<Figure size 640x480 with 1 Axes>"
      ]
     },
     "metadata": {},
     "output_type": "display_data"
    }
   ],
   "source": [
    "S = []\n",
    "I = np.arange(10)/10\n",
    "\n",
    "for i in range(10):\n",
    "    i = i / 10\n",
    "    \n",
    "    s = 0\n",
    "    for k in Initial_Strel:\n",
    "        if  ( i < k < 0.1+i)  :\n",
    "            s +=1\n",
    "            \n",
    "    S.append(s)\n",
    "    #print(i, i+0.1, s)\n",
    "    \n",
    "plt.bar(I, S, width = 0.05)"
   ]
  },
  {
   "cell_type": "code",
   "execution_count": 213,
   "metadata": {},
   "outputs": [
    {
     "data": {
      "text/plain": [
       "[2583, 2027, 1737, 863, 567, 460, 325, 234, 176, 78]"
      ]
     },
     "execution_count": 213,
     "metadata": {},
     "output_type": "execute_result"
    }
   ],
   "source": [
    "S"
   ]
  },
  {
   "cell_type": "code",
   "execution_count": 214,
   "metadata": {},
   "outputs": [
    {
     "data": {
      "text/plain": [
       "9566"
      ]
     },
     "execution_count": 214,
     "metadata": {},
     "output_type": "execute_result"
    }
   ],
   "source": [
    "# подсчет количества улучшенных результатов\n",
    "cnt = 0\n",
    "for i, k in zip(Initial_Strel, Final_Strel):\n",
    "    if i < k:\n",
    "        cnt+=1\n",
    "cnt\n",
    "    "
   ]
  },
  {
   "cell_type": "code",
   "execution_count": null,
   "metadata": {},
   "outputs": [],
   "source": []
  },
  {
   "cell_type": "code",
   "execution_count": null,
   "metadata": {},
   "outputs": [],
   "source": []
  },
  {
   "cell_type": "code",
   "execution_count": null,
   "metadata": {},
   "outputs": [],
   "source": []
  }
 ],
 "metadata": {
  "kernelspec": {
   "display_name": "Python 3 (ipykernel)",
   "language": "python",
   "name": "python3"
  },
  "language_info": {
   "codemirror_mode": {
    "name": "ipython",
    "version": 3
   },
   "file_extension": ".py",
   "mimetype": "text/x-python",
   "name": "python",
   "nbconvert_exporter": "python",
   "pygments_lexer": "ipython3",
   "version": "3.9.13"
  },
  "vscode": {
   "interpreter": {
    "hash": "2999872ec8ad345f0ca8e7b8b6db1bf93266170f77d3487399a48380642a6458"
   }
  }
 },
 "nbformat": 4,
 "nbformat_minor": 2
}
